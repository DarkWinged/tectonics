{
 "cells": [
  {
   "cell_type": "code",
   "execution_count": null,
   "metadata": {},
   "outputs": [],
   "source": [
    "from matplotlib import pyplot as plt\n",
    "from src.compute import ShaderManager\n",
    "from src.generation import ArrayGeneratorND"
   ]
  },
  {
   "cell_type": "code",
   "execution_count": null,
   "metadata": {},
   "outputs": [],
   "source": [
    "cubic_spline_samples = 128\n",
    "graph = True\n",
    "grid_dimension = 32\n",
    "final_grid_dimension = (\n",
    "    cubic_spline_samples * grid_dimension - cubic_spline_samples + grid_dimension\n",
    ")\n",
    "raw_grid = ArrayGeneratorND(\n",
    "    grid_dimension, grid_dimension, low=1, high=256, seed=3746357714\n",
    ")\n",
    "print(f\"Raw Grid seed: {raw_grid.seed}\")"
   ]
  },
  {
   "cell_type": "code",
   "execution_count": null,
   "metadata": {},
   "outputs": [],
   "source": [
    "output = ShaderManager.cubic_spline_2d_chunked(raw_grid(), cubic_spline_samples)"
   ]
  },
  {
   "cell_type": "code",
   "execution_count": null,
   "metadata": {},
   "outputs": [],
   "source": [
    "if graph:\n",
    "    plt.figure(figsize=(8, 8))\n",
    "    plt.imshow(output, cmap=\"plasma\")\n",
    "    plt.colorbar()\n",
    "    plt.title(\"2D Cubic Spline Interpolation\")\n",
    "    plt.show()"
   ]
  },
  {
   "cell_type": "code",
   "execution_count": null,
   "metadata": {},
   "outputs": [],
   "source": [
    "print(f\"Shape of output: {output.shape}\")\n",
    "ShaderManager.write_grid_to_texture(output, output_filename=\"output.png\")\n",
    "del output"
   ]
  },
  {
   "cell_type": "code",
   "execution_count": null,
   "metadata": {},
   "outputs": [],
   "source": []
  }
 ],
 "metadata": {
  "kernelspec": {
   "display_name": ".venv",
   "language": "python",
   "name": "python3"
  },
  "language_info": {
   "codemirror_mode": {
    "name": "ipython",
    "version": 3
   },
   "file_extension": ".py",
   "mimetype": "text/x-python",
   "name": "python",
   "nbconvert_exporter": "python",
   "pygments_lexer": "ipython3",
   "version": "3.12.0"
  }
 },
 "nbformat": 4,
 "nbformat_minor": 2
}
