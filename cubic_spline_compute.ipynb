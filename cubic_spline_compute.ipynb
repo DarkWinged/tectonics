{
 "cells": [
  {
   "cell_type": "code",
   "execution_count": null,
   "metadata": {},
   "outputs": [],
   "source": [
    "from matplotlib import pyplot as plt\n",
    "import numpy as np\n",
    "from src.compute.ShaderManager import ShaderManager\n",
    "from src.generation import n_d\n",
    "import random"
   ]
  },
  {
   "cell_type": "code",
   "execution_count": null,
   "metadata": {},
   "outputs": [],
   "source": [
    "# Example Usage\n",
    "cubic_spline_samples = 16\n",
    "graph = True\n",
    "# grid_dimension is the side length of our raw square grid\n",
    "grid_dimension = 64\n",
    "final_grid_dimension = (\n",
    "    cubic_spline_samples * grid_dimension - cubic_spline_samples + grid_dimension\n",
    ")\n",
    "random.seed(1)\n",
    "raw_grid = n_d(grid_dimension, grid_dimension, low=1, high=256)"
   ]
  },
  {
   "cell_type": "code",
   "execution_count": null,
   "metadata": {},
   "outputs": [],
   "source": [
    "output = ShaderManager.cubic_spline_2d_chunked(np.array(raw_grid), cubic_spline_samples)"
   ]
  },
  {
   "cell_type": "code",
   "execution_count": null,
   "metadata": {},
   "outputs": [],
   "source": [
    "if graph:\n",
    "    # use a scatter plot to visualize the final grid\n",
    "    plt.figure(figsize=(8, 8))\n",
    "    plt.imshow(output, cmap=\"plasma\", interpolation=\"nearest\")\n",
    "    plt.colorbar()\n",
    "    plt.title(\"Chunked 2D Cubic Spline Interpolation\")\n",
    "    plt.show()"
   ]
  },
  {
   "cell_type": "code",
   "execution_count": null,
   "metadata": {},
   "outputs": [],
   "source": [
    "ShaderManager.write_grid_to_texture(output, output_filename=\"output.png\")\n",
    "del output"
   ]
  },
  {
   "cell_type": "code",
   "execution_count": null,
   "metadata": {},
   "outputs": [],
   "source": [
    "expected = ShaderManager.cubic_spline_2d(np.array(raw_grid), cubic_spline_samples)"
   ]
  },
  {
   "cell_type": "code",
   "execution_count": null,
   "metadata": {},
   "outputs": [],
   "source": [
    "if graph:\n",
    "    # render the raw grid as well\n",
    "    plt.figure(figsize=(8, 8))\n",
    "    plt.imshow(expected, cmap=\"plasma\", interpolation=\"nearest\")\n",
    "    plt.colorbar()\n",
    "    plt.title(\"2D Cubic Spline Interpolation no Chunking\")\n",
    "    plt.show()"
   ]
  },
  {
   "cell_type": "code",
   "execution_count": null,
   "metadata": {},
   "outputs": [],
   "source": [
    "# write the expected output to a file\n",
    "ShaderManager.write_grid_to_texture(expected, output_filename=\"expected_output.png\")\n",
    "del expected"
   ]
  },
  {
   "cell_type": "code",
   "execution_count": null,
   "metadata": {},
   "outputs": [],
   "source": []
  }
 ],
 "metadata": {
  "kernelspec": {
   "display_name": ".venv",
   "language": "python",
   "name": "python3"
  },
  "language_info": {
   "codemirror_mode": {
    "name": "ipython",
    "version": 3
   },
   "file_extension": ".py",
   "mimetype": "text/x-python",
   "name": "python",
   "nbconvert_exporter": "python",
   "pygments_lexer": "ipython3",
   "version": "3.12.0"
  }
 },
 "nbformat": 4,
 "nbformat_minor": 2
}
