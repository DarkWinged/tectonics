{
 "cells": [
  {
   "cell_type": "code",
   "execution_count": 73,
   "metadata": {},
   "outputs": [],
   "source": [
    "from src.generation import one_d"
   ]
  },
  {
   "cell_type": "code",
   "execution_count": null,
   "metadata": {},
   "outputs": [],
   "source": [
    "import numpy as np\n",
    "\n",
    "import matplotlib.pyplot as plt\n",
    "\n",
    "# Call the one_d function\n",
    "results = one_d(100)\n",
    "\n",
    "# Convert the results to a numpy array\n",
    "results_array = np.array(results)\n",
    "\n",
    "# Plot the results\n",
    "plt.plot(results_array)\n",
    "plt.xlabel('Index')\n",
    "plt.ylabel('Value')\n",
    "plt.title('Results of one_d(10)')\n",
    "plt.show()"
   ]
  },
  {
   "cell_type": "code",
   "execution_count": null,
   "metadata": {},
   "outputs": [],
   "source": [
    "# Define the interpolation function\n",
    "import math\n",
    "\n",
    "\n",
    "def interpolate(a, b, t):\n",
    "\treturn a + (b - a) * t\n",
    "\n",
    "detail_level = 16\n",
    "# Interpolate the results\n",
    "interpolated_results = []\n",
    "for index, a in enumerate(results):\n",
    "\tif index == len(results) - 1:\n",
    "\t\tinterpolated_results.append(b)\n",
    "\t\tbreak\n",
    "\tb = results[index + 1]\n",
    "\tfor i in range(detail_level):\n",
    "\t\tt = i / detail_level + index\n",
    "\t\tinterpolated_value = interpolate(a, b, t-index)\n",
    "\t\tinterpolated_results.append(interpolated_value)\n",
    "\n",
    "# Convert the interpolated results to a numpy array\n",
    "interpolated_results_array = np.array(interpolated_results)\n",
    "x_axis = [t/detail_level for t in range(len(interpolated_results))]\n",
    "# Plot the original and interpolated results\n",
    "x_extended = []\n",
    "y_extended = []\n",
    "for i, y in enumerate(results_array):\n",
    "    x_extended.extend([i - 0.5, i + 0.5])  # Each step spans one x-axis interval\n",
    "    y_extended.extend([y, y])  # Keep the y-value constant within each interval\n",
    "\n",
    "# Plot step-like graph\n",
    "plt.step(x_extended, y_extended, where='mid', label='Original Results', linewidth=2)\n",
    "plt.plot(x_axis,interpolated_results_array, label='Interpolated Results', linestyle='--')\n",
    "plt.xlabel('Index')\n",
    "plt.ylabel('Value')\n",
    "plt.title('Original and Interpolated Results')\n",
    "plt.legend()\n",
    "plt.show()\n"
   ]
  },
  {
   "cell_type": "code",
   "execution_count": null,
   "metadata": {},
   "outputs": [],
   "source": [
    "# Apply a simple moving average for smoothing\n",
    "def moving_average(data, window_size):\n",
    "    half_window = (window_size - 1) // 2\n",
    "    smoothed_data = []\n",
    "    for i in range(len(data)):\n",
    "        # Determine the range of the window\n",
    "        start = max(0, i - half_window)\n",
    "        end = min(len(data), i + half_window + 1)\n",
    "        # Average the values in the window\n",
    "        smoothed_data.append(np.mean(data[start:end]))\n",
    "    return np.array(smoothed_data)\n",
    "\n",
    "# Smooth the derivative using polynomial smoothing\n",
    "smoothed_results = moving_average(interpolated_results_array, 33)\n",
    "\n",
    "# Plot the results\n",
    "plt.plot(x_axis, interpolated_results_array, label='Interpolated Data',  alpha=0.5)\n",
    "plt.plot(x_axis, smoothed_results, linestyle='-.', label='Smoothed Results', linewidth=2)\n",
    "plt.title('Smoothed Results')\n",
    "plt.legend()\n",
    "plt.show()"
   ]
  },
  {
   "cell_type": "code",
   "execution_count": null,
   "metadata": {},
   "outputs": [],
   "source": []
  }
 ],
 "metadata": {
  "kernelspec": {
   "display_name": ".venv",
   "language": "python",
   "name": "python3"
  },
  "language_info": {
   "codemirror_mode": {
    "name": "ipython",
    "version": 3
   },
   "file_extension": ".py",
   "mimetype": "text/x-python",
   "name": "python",
   "nbconvert_exporter": "python",
   "pygments_lexer": "ipython3",
   "version": "3.13.1"
  }
 },
 "nbformat": 4,
 "nbformat_minor": 2
}
